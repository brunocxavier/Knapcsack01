{
 "cells": [
  {
   "cell_type": "code",
   "execution_count": 19,
   "metadata": {
    "scrolled": true
   },
   "outputs": [],
   "source": [
    "# Importa a biblioteca do Gurobi\n",
    "import gurobipy as gp\n",
    "import json"
   ]
  },
  {
   "cell_type": "code",
   "execution_count": 104,
   "metadata": {
    "scrolled": true
   },
   "outputs": [],
   "source": [
    "file = open(r\"C:\\Users\\bruno\\Desktop\\Cefet\\7_periodo\\OTM\\LeitorDeArquivo\\n_10000_max_100_json.txt\")\n",
    "instance = json.load(file)"
   ]
  },
  {
   "cell_type": "code",
   "execution_count": 105,
   "metadata": {},
   "outputs": [],
   "source": [
    "qtd_itens = instance.get(\"numberOfItems\")\n",
    "capacidade = instance.get(\"capacity\")\n",
    "\n",
    "# Criar os rótulos dos itens\n",
    "itens = list()\n",
    "for i in range(qtd_itens):\n",
    "    rotulo = \"Item_{}\".format(i + 1)\n",
    "    itens.append(rotulo)\n",
    "\n",
    "pesos = dict()\n",
    "for idx, peso in enumerate(instance.get(\"weights\")):\n",
    "    rotulo = itens[idx]\n",
    "    pesos[rotulo] = peso\n",
    "\n",
    "valores = dict()\n",
    "for idx, valor in enumerate(instance.get(\"values\")):\n",
    "    rotulo = itens[idx]\n",
    "    valores[rotulo] = valor"
   ]
  },
  {
   "cell_type": "code",
   "execution_count": 106,
   "metadata": {
    "scrolled": false
   },
   "outputs": [
    {
     "name": "stdout",
     "output_type": "stream",
     "text": [
      "Gurobi Optimizer version 9.5.0 build v9.5.0rc5 (win64)\n",
      "Thread count: 4 physical cores, 8 logical processors, using up to 8 threads\n",
      "Optimize a model with 1 rows, 10000 columns and 10000 nonzeros\n",
      "Model fingerprint: 0xf6747ba9\n",
      "Variable types: 0 continuous, 10000 integer (10000 binary)\n",
      "Coefficient statistics:\n",
      "  Matrix range     [1e+00, 3e+01]\n",
      "  Objective range  [1e+00, 1e+03]\n",
      "  Bounds range     [1e+00, 1e+00]\n",
      "  RHS range        [1e+02, 1e+02]\n",
      "Found heuristic solution: objective 6367.0000000\n",
      "Presolve removed 0 rows and 2496 columns\n",
      "Presolve time: 0.03s\n",
      "Presolved: 1 rows, 7504 columns, 7504 nonzeros\n",
      "Found heuristic solution: objective 13909.000000\n",
      "Variable types: 0 continuous, 7504 integer (6072 binary)\n",
      "Found heuristic solution: objective 15683.000000\n",
      "\n",
      "Root relaxation: objective 8.712300e+04, 1 iterations, 0.00 seconds (0.00 work units)\n",
      "\n",
      "    Nodes    |    Current Node    |     Objective Bounds      |     Work\n",
      " Expl Unexpl |  Obj  Depth IntInf | Incumbent    BestBd   Gap | It/Node Time\n",
      "\n",
      "*    0     0               0    87123.000000 87123.0000  0.00%     -    0s\n",
      "\n",
      "Explored 1 nodes (1 simplex iterations) in 0.10 seconds (0.06 work units)\n",
      "Thread count was 8 (of 8 available processors)\n",
      "\n",
      "Solution count 4: 87123 15683 13909 6367 \n",
      "\n",
      "Optimal solution found (tolerance 1.00e-04)\n",
      "Best objective 8.712300000000e+04, best bound 8.712300000000e+04, gap 0.0000%\n"
     ]
    }
   ],
   "source": [
    "m = gp.Model()\n",
    "\n",
    "# Inserir as variáveis de decisão\n",
    "x = m.addVars(itens, vtype=gp.GRB.BINARY)\n",
    "\n",
    "# Função objetivo\n",
    "m.setObjective(\n",
    "    gp.quicksum(x[i] * valores[i] for i in itens),\n",
    "    sense=gp.GRB.MAXIMIZE\n",
    ")\n",
    "\n",
    "# Restrição de capacidade\n",
    "c1 = m.addConstr(\n",
    "    gp.quicksum(x[i] * pesos[i] for i in itens) <= capacidade)\n",
    "\n",
    "# Executa o modelo\n",
    "m.optimize()"
   ]
  },
  {
   "cell_type": "code",
   "execution_count": null,
   "metadata": {},
   "outputs": [],
   "source": []
  }
 ],
 "metadata": {
  "kernelspec": {
   "display_name": "Python 3 (ipykernel)",
   "language": "python",
   "name": "python3"
  },
  "language_info": {
   "codemirror_mode": {
    "name": "ipython",
    "version": 3
   },
   "file_extension": ".py",
   "mimetype": "text/x-python",
   "name": "python",
   "nbconvert_exporter": "python",
   "pygments_lexer": "ipython3",
   "version": "3.7.11"
  }
 },
 "nbformat": 4,
 "nbformat_minor": 4
}
